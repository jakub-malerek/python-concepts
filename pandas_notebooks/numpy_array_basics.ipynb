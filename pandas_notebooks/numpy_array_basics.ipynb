{
 "cells": [
  {
   "cell_type": "markdown",
   "id": "7256f2da",
   "metadata": {},
   "source": [
    "# NumPy basics"
   ]
  },
  {
   "cell_type": "code",
   "execution_count": 2,
   "id": "3297c40c-4e90-4774-8fec-992a3581a498",
   "metadata": {},
   "outputs": [],
   "source": [
    "import numpy as np"
   ]
  },
  {
   "cell_type": "markdown",
   "id": "a952c1f1",
   "metadata": {},
   "source": [
    "Create numpy array"
   ]
  },
  {
   "cell_type": "code",
   "execution_count": 3,
   "id": "1f91bedd",
   "metadata": {},
   "outputs": [
    {
     "data": {
      "text/plain": [
       "array([ 10,  15,  20,  30, 100,   5])"
      ]
     },
     "execution_count": 3,
     "metadata": {},
     "output_type": "execute_result"
    }
   ],
   "source": [
    "x = [10,15,20,30,100,5]\n",
    "array = np.array(x)\n",
    "array"
   ]
  },
  {
   "cell_type": "code",
   "execution_count": 4,
   "id": "e76e8693",
   "metadata": {},
   "outputs": [
    {
     "name": "stdout",
     "output_type": "stream",
     "text": [
      "Size: 6 - amount of elements\n",
      "Shape: (6,) - rows x column\n",
      "Dimensions: 1 - amount of axis (1d, 2d, 3d etc...)\n",
      "Data type: int32 - all elements must be of the same type, there are no mixed types like in python lists\n"
     ]
    }
   ],
   "source": [
    "print(f\"Size: {array.size} - amount of elements\")\n",
    "print(f\"Shape: {array.shape} - rows x column\")\n",
    "print(f\"Dimensions: {array.ndim} - amount of axis (1d, 2d, 3d etc...)\")\n",
    "print(f\"Data type: {array.dtype} - all elements must be of the same type, there are no mixed types like in python lists\")"
   ]
  },
  {
   "cell_type": "markdown",
   "id": "5ce66500",
   "metadata": {},
   "source": [
    "Create 2D array"
   ]
  },
  {
   "cell_type": "code",
   "execution_count": 5,
   "id": "eda8a8cf",
   "metadata": {},
   "outputs": [
    {
     "data": {
      "text/plain": [
       "array([[0, 1, 2, 3, 4],\n",
       "       [0, 1, 2, 3, 4]])"
      ]
     },
     "execution_count": 5,
     "metadata": {},
     "output_type": "execute_result"
    }
   ],
   "source": [
    "# create 2 dimensional (2d) array, shape 2x5, with data types of int32, total size is 10 (2x5)\n",
    "array_2d = np.array((range(5),range(5)))\n",
    "array_2d"
   ]
  },
  {
   "cell_type": "code",
   "execution_count": 6,
   "id": "671c595c",
   "metadata": {},
   "outputs": [
    {
     "name": "stdout",
     "output_type": "stream",
     "text": [
      "Size: 10\n",
      "Shape: (2, 5)\n",
      "Dimensions: 2\n",
      "Data type: int32\n"
     ]
    }
   ],
   "source": [
    "print(f\"Size: {array_2d.size}\")\n",
    "print(f\"Shape: {array_2d.shape}\")\n",
    "print(f\"Dimensions: {array_2d.ndim}\")\n",
    "print(f\"Data type: {array_2d.dtype}\")"
   ]
  },
  {
   "cell_type": "markdown",
   "id": "189e0522",
   "metadata": {},
   "source": [
    "Array of strings and its actuall type"
   ]
  },
  {
   "cell_type": "code",
   "execution_count": 7,
   "id": "6efbf772",
   "metadata": {},
   "outputs": [
    {
     "name": "stdout",
     "output_type": "stream",
     "text": [
      "Data type: <U5 - 'U' - Unicode, '5' max length of a string\n"
     ]
    }
   ],
   "source": [
    "array_str = np.array([\"Hello\",\"World\"])\n",
    "print(f\"Data type: {array_str.dtype} - 'U' - Unicode, '5' max length of a string\")"
   ]
  },
  {
   "cell_type": "code",
   "execution_count": 8,
   "id": "5e951539",
   "metadata": {},
   "outputs": [
    {
     "data": {
      "text/plain": [
       "array(['A', 'World'], dtype='<U5')"
      ]
     },
     "execution_count": 8,
     "metadata": {},
     "output_type": "execute_result"
    }
   ],
   "source": [
    "array_str[0] = \"A\"\n",
    "array_str"
   ]
  },
  {
   "cell_type": "code",
   "execution_count": 9,
   "id": "09b3e09d",
   "metadata": {},
   "outputs": [
    {
     "data": {
      "text/plain": [
       "array(['12345', 'World'], dtype='<U5')"
      ]
     },
     "execution_count": 9,
     "metadata": {},
     "output_type": "execute_result"
    }
   ],
   "source": [
    "array_str[0] = \"123456\"\n",
    "array_str"
   ]
  },
  {
   "cell_type": "markdown",
   "id": "3b59daf5",
   "metadata": {},
   "source": [
    "Transpose matrix"
   ]
  },
  {
   "cell_type": "code",
   "execution_count": 10,
   "id": "61b36370",
   "metadata": {},
   "outputs": [
    {
     "data": {
      "text/plain": [
       "array([[0, 0],\n",
       "       [1, 1],\n",
       "       [2, 2],\n",
       "       [3, 3],\n",
       "       [4, 4]])"
      ]
     },
     "execution_count": 10,
     "metadata": {},
     "output_type": "execute_result"
    }
   ],
   "source": [
    "array_2d.T"
   ]
  },
  {
   "cell_type": "markdown",
   "id": "96779ba9",
   "metadata": {},
   "source": [
    "When element is shorter than given max length of the string, then amount of memory for storing that string is like for w max length anyways.\n",
    "When element is longer then the string is truncated - not visually, it is loss of information\n"
   ]
  },
  {
   "cell_type": "markdown",
   "id": "eefb62b7",
   "metadata": {},
   "source": [
    "Course assignment: Array basics"
   ]
  },
  {
   "cell_type": "code",
   "execution_count": 11,
   "id": "089b96b6",
   "metadata": {},
   "outputs": [
    {
     "data": {
      "text/plain": [
       "array([ 10,  20,  30,  40,  50,  60,  70,  80,  90, 100])"
      ]
     },
     "execution_count": 11,
     "metadata": {},
     "output_type": "execute_result"
    }
   ],
   "source": [
    "my_list = [x*10 for x in range(1,11)]\n",
    "my_array = np.array(my_list)\n",
    "my_array"
   ]
  },
  {
   "cell_type": "code",
   "execution_count": 12,
   "id": "3f3bcc7e",
   "metadata": {},
   "outputs": [
    {
     "name": "stdout",
     "output_type": "stream",
     "text": [
      "Size: 10\n",
      "Shape: (10,)\n",
      "Dimensions: 1\n",
      "Data type: int32\n"
     ]
    }
   ],
   "source": [
    "print(f\"Size: {my_array.size}\")\n",
    "print(f\"Shape: {my_array.shape}\")\n",
    "print(f\"Dimensions: {my_array.ndim}\")\n",
    "print(f\"Data type: {my_array.dtype}\")"
   ]
  }
 ],
 "metadata": {
  "kernelspec": {
   "display_name": "venv",
   "language": "python",
   "name": "python3"
  },
  "language_info": {
   "codemirror_mode": {
    "name": "ipython",
    "version": 3
   },
   "file_extension": ".py",
   "mimetype": "text/x-python",
   "name": "python",
   "nbconvert_exporter": "python",
   "pygments_lexer": "ipython3",
   "version": "3.11.8"
  }
 },
 "nbformat": 4,
 "nbformat_minor": 5
}
