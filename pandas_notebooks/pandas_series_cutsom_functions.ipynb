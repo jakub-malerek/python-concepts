{
 "cells": [
  {
   "cell_type": "markdown",
   "metadata": {},
   "source": [
    "# Pandas Series custom functions"
   ]
  },
  {
   "cell_type": "code",
   "execution_count": 54,
   "metadata": {},
   "outputs": [],
   "source": [
    "import pandas as pd\n",
    "import numpy as np"
   ]
  },
  {
   "cell_type": "code",
   "execution_count": 55,
   "metadata": {},
   "outputs": [],
   "source": [
    "series = pd.Series([\"Amazon\",\"Azure\",\"rrrrrrr\",\"5-54-2222\",\"xxxxx-eee3--z\"])"
   ]
  },
  {
   "cell_type": "code",
   "execution_count": 56,
   "metadata": {},
   "outputs": [
    {
     "data": {
      "text/plain": [
       "0        False\n",
       "1        False\n",
       "2        False\n",
       "3    5-54-2222\n",
       "4        False\n",
       "dtype: object"
      ]
     },
     "execution_count": 56,
     "metadata": {},
     "output_type": "execute_result"
    }
   ],
   "source": [
    "def process(element):\n",
    "    if \"-\" in element:\n",
    "        if all([e.isdigit() for e in element.split(\"-\")]):\n",
    "            return element\n",
    "    return False    \n",
    "\n",
    "\n",
    "\n",
    "series.apply(process)"
   ]
  },
  {
   "cell_type": "code",
   "execution_count": 57,
   "metadata": {},
   "outputs": [],
   "source": [
    "oil = pd.read_csv(\"../pandas-course/Pandas Course Resources/retail/oil.csv\").dropna()\n",
    "dates = pd.Series(oil[\"date\"]).iloc[1000:1100]\n",
    "oil_array = np.array(oil[\"dcoilwtico\"].iloc[1000:1100])\n",
    "oil_series = pd.Series(oil_array)\n",
    "oil_series.index = dates\n",
    "oil_series = oil_series.where(~oil_series.isin([51.44, 47.83]), pd.NA)"
   ]
  },
  {
   "cell_type": "code",
   "execution_count": 58,
   "metadata": {},
   "outputs": [
    {
     "data": {
      "text/plain": [
       "0      buy\n",
       "1     wait\n",
       "2      buy\n",
       "3      buy\n",
       "4      buy\n",
       "      ... \n",
       "95     buy\n",
       "96     buy\n",
       "97     buy\n",
       "98    wait\n",
       "99     buy\n",
       "Length: 100, dtype: object"
      ]
     },
     "execution_count": 58,
     "metadata": {},
     "output_type": "execute_result"
    }
   ],
   "source": [
    "pd.Series(np.where(oil_series < oil_series.quantile(0.9),\"buy\",\"wait\"))"
   ]
  },
  {
   "cell_type": "code",
   "execution_count": 59,
   "metadata": {},
   "outputs": [
    {
     "data": {
      "text/plain": [
       "date\n",
       "2016-12-20     buy\n",
       "2016-12-21    wait\n",
       "2016-12-22     buy\n",
       "2016-12-23     buy\n",
       "2016-12-27     buy\n",
       "              ... \n",
       "2017-05-09     buy\n",
       "2017-05-10     buy\n",
       "2017-05-11     buy\n",
       "2017-05-12    wait\n",
       "2017-05-15     buy\n",
       "Length: 100, dtype: object"
      ]
     },
     "execution_count": 59,
     "metadata": {},
     "output_type": "execute_result"
    }
   ],
   "source": [
    "oil_series.apply(lambda x: \"buy\" if x < oil_series.quantile(0.9) else \"wait\")"
   ]
  },
  {
   "cell_type": "code",
   "execution_count": 60,
   "metadata": {},
   "outputs": [
    {
     "name": "stderr",
     "output_type": "stream",
     "text": [
      "C:\\Users\\ZF915FC\\AppData\\Local\\Temp\\ipykernel_21692\\3713460981.py:2: FutureWarning: Setting an item of incompatible dtype is deprecated and will raise an error in a future version of pandas. Value 'buy' has dtype incompatible with float64, please explicitly cast to a compatible dtype first.\n",
      "  oil_series2.loc[oil_series < oil_series.quantile()] = \"buy\"\n"
     ]
    },
    {
     "data": {
      "text/plain": [
       "date\n",
       "2016-12-20    wait\n",
       "2016-12-21     NaN\n",
       "2016-12-22     buy\n",
       "2016-12-23     buy\n",
       "2016-12-27    wait\n",
       "              ... \n",
       "2017-05-09     buy\n",
       "2017-05-10     buy\n",
       "2017-05-11     buy\n",
       "2017-05-12     NaN\n",
       "2017-05-15     buy\n",
       "Length: 100, dtype: object"
      ]
     },
     "execution_count": 60,
     "metadata": {},
     "output_type": "execute_result"
    }
   ],
   "source": [
    "oil_series2 = oil_series.copy()\n",
    "oil_series2.loc[oil_series < oil_series.quantile()] = \"buy\"\n",
    "oil_series2.loc[oil_series >= oil_series.quantile()] = \"wait\"\n",
    "oil_series2"
   ]
  },
  {
   "cell_type": "code",
   "execution_count": 61,
   "metadata": {},
   "outputs": [
    {
     "data": {
      "text/plain": [
       "['buy',\n",
       " 'wait',\n",
       " 'buy',\n",
       " 'buy',\n",
       " 'buy',\n",
       " 'wait',\n",
       " 'buy',\n",
       " 'buy',\n",
       " 'buy',\n",
       " 'buy',\n",
       " 'buy',\n",
       " 'wait',\n",
       " 'buy',\n",
       " 'buy',\n",
       " 'buy',\n",
       " 'buy',\n",
       " 'buy',\n",
       " 'buy',\n",
       " 'buy',\n",
       " 'buy',\n",
       " 'buy',\n",
       " 'buy',\n",
       " 'buy',\n",
       " 'buy',\n",
       " 'buy',\n",
       " 'buy',\n",
       " 'buy',\n",
       " 'buy',\n",
       " 'wait',\n",
       " 'buy',\n",
       " 'buy',\n",
       " 'buy',\n",
       " 'buy',\n",
       " 'buy',\n",
       " 'buy',\n",
       " 'wait',\n",
       " 'buy',\n",
       " 'buy',\n",
       " 'buy',\n",
       " 'buy',\n",
       " 'buy',\n",
       " 'wait',\n",
       " 'buy',\n",
       " 'wait',\n",
       " 'wait',\n",
       " 'wait',\n",
       " 'wait',\n",
       " 'wait',\n",
       " 'buy',\n",
       " 'buy',\n",
       " 'buy',\n",
       " 'buy',\n",
       " 'buy',\n",
       " 'buy',\n",
       " 'buy',\n",
       " 'buy',\n",
       " 'buy',\n",
       " 'buy',\n",
       " 'buy',\n",
       " 'buy',\n",
       " 'buy',\n",
       " 'buy',\n",
       " 'buy',\n",
       " 'buy',\n",
       " 'buy',\n",
       " 'buy',\n",
       " 'buy',\n",
       " 'buy',\n",
       " 'buy',\n",
       " 'buy',\n",
       " 'buy',\n",
       " 'buy',\n",
       " 'buy',\n",
       " 'buy',\n",
       " 'buy',\n",
       " 'buy',\n",
       " 'buy',\n",
       " 'buy',\n",
       " 'buy',\n",
       " 'buy',\n",
       " 'buy',\n",
       " 'buy',\n",
       " 'buy',\n",
       " 'buy',\n",
       " 'buy',\n",
       " 'buy',\n",
       " 'buy',\n",
       " 'buy',\n",
       " 'buy',\n",
       " 'buy',\n",
       " 'buy',\n",
       " 'buy',\n",
       " 'buy',\n",
       " 'buy',\n",
       " 'buy',\n",
       " 'buy',\n",
       " 'buy',\n",
       " 'buy',\n",
       " 'wait',\n",
       " 'buy']"
      ]
     },
     "execution_count": 61,
     "metadata": {},
     "output_type": "execute_result"
    }
   ],
   "source": [
    "[\"buy\" if x < oil_series.quantile(0.9) else \"wait\" for x in oil_series ]"
   ]
  },
  {
   "cell_type": "code",
   "execution_count": 62,
   "metadata": {},
   "outputs": [],
   "source": [
    "oil_series.loc[[\"2016-12-23\",\"2017-05-10\"]] = oil_series.loc[[\"2016-12-23\",\"2017-05-10\"]]*0.9\n",
    "oil_series.loc[exclude] = oil_series.loc[exclude]*1.1"
   ]
  },
  {
   "cell_type": "code",
   "execution_count": 63,
   "metadata": {},
   "outputs": [],
   "source": [
    "exclude = ~oil_series.index.isin([\"2016-12-23\",\"2017-05-10\"])"
   ]
  },
  {
   "cell_type": "code",
   "execution_count": 64,
   "metadata": {},
   "outputs": [
    {
     "data": {
      "text/plain": [
       "array([ True,  True,  True, False,  True,  True,  True,  True,  True,\n",
       "        True,  True,  True,  True,  True,  True,  True,  True,  True,\n",
       "        True,  True,  True,  True,  True,  True,  True,  True,  True,\n",
       "        True,  True,  True,  True,  True,  True,  True,  True,  True,\n",
       "        True,  True,  True,  True,  True,  True,  True,  True,  True,\n",
       "        True,  True,  True,  True,  True,  True,  True,  True,  True,\n",
       "        True,  True,  True,  True,  True,  True,  True,  True,  True,\n",
       "        True,  True,  True,  True,  True,  True,  True,  True,  True,\n",
       "        True,  True,  True,  True,  True,  True,  True,  True,  True,\n",
       "        True,  True,  True,  True,  True,  True,  True,  True,  True,\n",
       "        True,  True,  True,  True,  True,  True, False,  True,  True,\n",
       "        True])"
      ]
     },
     "execution_count": 64,
     "metadata": {},
     "output_type": "execute_result"
    }
   ],
   "source": [
    "exclude"
   ]
  }
 ],
 "metadata": {
  "kernelspec": {
   "display_name": "venv",
   "language": "python",
   "name": "python3"
  },
  "language_info": {
   "codemirror_mode": {
    "name": "ipython",
    "version": 3
   },
   "file_extension": ".py",
   "mimetype": "text/x-python",
   "name": "python",
   "nbconvert_exporter": "python",
   "pygments_lexer": "ipython3",
   "version": "3.11.8"
  }
 },
 "nbformat": 4,
 "nbformat_minor": 2
}
