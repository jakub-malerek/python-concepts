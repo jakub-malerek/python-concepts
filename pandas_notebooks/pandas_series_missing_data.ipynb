{
 "cells": [
  {
   "cell_type": "markdown",
   "metadata": {},
   "source": [
    "# Pandas Series missing data"
   ]
  },
  {
   "cell_type": "code",
   "execution_count": 1,
   "metadata": {},
   "outputs": [],
   "source": [
    "import pandas as pd\n",
    "import numpy as np"
   ]
  },
  {
   "cell_type": "code",
   "execution_count": 2,
   "metadata": {},
   "outputs": [],
   "source": [
    "series = pd.Series([4,2,7,9,np.nan,20,2,2,7])"
   ]
  },
  {
   "cell_type": "code",
   "execution_count": 7,
   "metadata": {},
   "outputs": [
    {
     "data": {
      "text/plain": [
       "0.125"
      ]
     },
     "execution_count": 7,
     "metadata": {},
     "output_type": "execute_result"
    }
   ],
   "source": [
    "series.isna().sum()/series.count()"
   ]
  },
  {
   "cell_type": "code",
   "execution_count": 12,
   "metadata": {},
   "outputs": [
    {
     "data": {
      "text/plain": [
       "0.11"
      ]
     },
     "execution_count": 12,
     "metadata": {},
     "output_type": "execute_result"
    }
   ],
   "source": [
    "round(series.value_counts(dropna=False,normalize=True).loc[np.nan],2)"
   ]
  },
  {
   "cell_type": "code",
   "execution_count": 23,
   "metadata": {},
   "outputs": [],
   "source": [
    "nans = pd.Series([np.nan]*5)"
   ]
  },
  {
   "cell_type": "code",
   "execution_count": 20,
   "metadata": {},
   "outputs": [
    {
     "name": "stderr",
     "output_type": "stream",
     "text": [
      "C:\\Users\\ZF915FC\\AppData\\Local\\Temp\\ipykernel_35396\\276484259.py:1: FutureWarning: Setting an item of incompatible dtype is deprecated and will raise an error in a future version of pandas. Value 'False' has dtype incompatible with float64, please explicitly cast to a compatible dtype first.\n",
      "  nans.fillna(False, inplace = True)\n",
      "C:\\Users\\ZF915FC\\AppData\\Local\\Temp\\ipykernel_35396\\276484259.py:1: FutureWarning: Downcasting object dtype arrays on .fillna, .ffill, .bfill is deprecated and will change in a future version. Call result.infer_objects(copy=False) instead. To opt-in to the future behavior, set `pd.set_option('future.no_silent_downcasting', True)`\n",
      "  nans.fillna(False, inplace = True)\n"
     ]
    }
   ],
   "source": [
    "nans.fillna(False, inplace = True)"
   ]
  },
  {
   "cell_type": "code",
   "execution_count": 25,
   "metadata": {},
   "outputs": [],
   "source": [
    "nans.iloc[2] = 5"
   ]
  },
  {
   "cell_type": "code",
   "execution_count": 27,
   "metadata": {},
   "outputs": [
    {
     "data": {
      "text/plain": [
       "0    NaN\n",
       "1    NaN\n",
       "2    5.0\n",
       "3    NaN\n",
       "4    NaN\n",
       "dtype: float64"
      ]
     },
     "execution_count": 27,
     "metadata": {},
     "output_type": "execute_result"
    }
   ],
   "source": [
    "nans"
   ]
  },
  {
   "cell_type": "code",
   "execution_count": 28,
   "metadata": {},
   "outputs": [],
   "source": [
    "nas = pd.Series([pd.NA]*5)"
   ]
  },
  {
   "cell_type": "code",
   "execution_count": 30,
   "metadata": {},
   "outputs": [],
   "source": [
    "nas.iloc[2] = 5"
   ]
  },
  {
   "cell_type": "code",
   "execution_count": 33,
   "metadata": {},
   "outputs": [],
   "source": [
    "nas.dropna(inplace=True)"
   ]
  },
  {
   "cell_type": "code",
   "execution_count": 42,
   "metadata": {},
   "outputs": [],
   "source": [
    "oil = pd.read_csv(\"../pandas-course/Pandas Course Resources/retail/oil.csv\").dropna()\n",
    "dates = pd.Series(oil[\"date\"]).iloc[1000:1100]\n",
    "oil_array = np.array(oil[\"dcoilwtico\"].iloc[1000:1100])\n",
    "oil_series = pd.Series(oil_array)\n",
    "oil_series.index = dates\n",
    "oil_series = oil_series.where(~oil_series.isin([51.44, 47.83]), pd.NA)"
   ]
  },
  {
   "cell_type": "code",
   "execution_count": 52,
   "metadata": {},
   "outputs": [
    {
     "data": {
      "text/plain": [
       "date\n",
       "2016-12-20    52.22\n",
       "2016-12-21      NaN\n",
       "2016-12-22    51.98\n",
       "2016-12-23    52.01\n",
       "2016-12-27    52.82\n",
       "              ...  \n",
       "2017-05-09    45.84\n",
       "2017-05-10    47.28\n",
       "2017-05-11    47.81\n",
       "2017-05-12      NaN\n",
       "2017-05-15    48.86\n",
       "Length: 100, dtype: float64"
      ]
     },
     "execution_count": 52,
     "metadata": {},
     "output_type": "execute_result"
    }
   ],
   "source": [
    "oil_series"
   ]
  },
  {
   "cell_type": "code",
   "execution_count": 53,
   "metadata": {},
   "outputs": [
    {
     "data": {
      "text/plain": [
       "2"
      ]
     },
     "execution_count": 53,
     "metadata": {},
     "output_type": "execute_result"
    }
   ],
   "source": [
    "oil_series.isna().sum()"
   ]
  },
  {
   "cell_type": "code",
   "execution_count": 55,
   "metadata": {},
   "outputs": [
    {
     "data": {
      "text/plain": [
       "date\n",
       "2016-12-20    52.220\n",
       "2016-12-21    52.205\n",
       "2016-12-22    51.980\n",
       "2016-12-23    52.010\n",
       "2016-12-27    52.820\n",
       "               ...  \n",
       "2017-05-09    45.840\n",
       "2017-05-10    47.280\n",
       "2017-05-11    47.810\n",
       "2017-05-12    52.205\n",
       "2017-05-15    48.860\n",
       "Length: 100, dtype: float64"
      ]
     },
     "execution_count": 55,
     "metadata": {},
     "output_type": "execute_result"
    }
   ],
   "source": [
    "oil_series.fillna(oil_series.median())"
   ]
  },
  {
   "cell_type": "code",
   "execution_count": 56,
   "metadata": {},
   "outputs": [
    {
     "data": {
      "text/plain": [
       "date\n",
       "2016-12-20    52.22\n",
       "2016-12-21      NaN\n",
       "2016-12-22    51.98\n",
       "2016-12-23    52.01\n",
       "2016-12-27    52.82\n",
       "              ...  \n",
       "2017-05-09    45.84\n",
       "2017-05-10    47.28\n",
       "2017-05-11    47.81\n",
       "2017-05-12      NaN\n",
       "2017-05-15    48.86\n",
       "Length: 100, dtype: float64"
      ]
     },
     "execution_count": 56,
     "metadata": {},
     "output_type": "execute_result"
    }
   ],
   "source": [
    "oil_series"
   ]
  }
 ],
 "metadata": {
  "kernelspec": {
   "display_name": "venv",
   "language": "python",
   "name": "python3"
  },
  "language_info": {
   "codemirror_mode": {
    "name": "ipython",
    "version": 3
   },
   "file_extension": ".py",
   "mimetype": "text/x-python",
   "name": "python",
   "nbconvert_exporter": "python",
   "pygments_lexer": "ipython3",
   "version": "3.11.8"
  }
 },
 "nbformat": 4,
 "nbformat_minor": 2
}
